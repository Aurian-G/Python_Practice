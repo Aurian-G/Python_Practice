{
 "cells": [
  {
   "cell_type": "code",
   "execution_count": null,
   "metadata": {},
   "outputs": [],
   "source": [
    "#Use .format to print out the following string using the variables below.\n",
    "#Print \"The diameter of Earth is 12742 kilometers.\"\n",
    "\n",
    "planet = \"Earth\"\n",
    "diameter = 12742"
   ]
  },
  {
   "cell_type": "code",
   "execution_count": 7,
   "metadata": {},
   "outputs": [],
   "source": [
    "#Create a function that returns True if \"cat\" is in the string and prints (counts) the number of times it is in the string.\n",
    "#find_cat('Is there a cat here in this cat house?')\n",
    "\n",
    "def find_cat(string):\n",
    "    pass"
   ]
  },
  {
   "cell_type": "code",
   "execution_count": 8,
   "metadata": {},
   "outputs": [],
   "source": [
    "#SAME_SAME: Write a function takes a two-word string and returns True if both words begin with same letter\n",
    "#same_same('Crazy cats') -> True\n",
    "#same_same('Happy dogs') -> False\n",
    "\n",
    "def same_samee(text):\n",
    "    pass"
   ]
  },
  {
   "cell_type": "code",
   "execution_count": 10,
   "metadata": {},
   "outputs": [],
   "source": [
    "#MAKES_THIRTY: Given two integers, return True if the sum of the integers is 30 or if one of the integers is 30. If not,\n",
    "#return False\n",
    "#makes_thirty(30,10) -> True\n",
    "#makes_thirty(22,8) -> True\n",
    "#makes_thirty(20,3) -> False\n",
    "\n",
    "def makes_thirty(n1,n2):\n",
    "    pass"
   ]
  },
  {
   "cell_type": "code",
   "execution_count": 16,
   "metadata": {},
   "outputs": [],
   "source": [
    "#TIMES_THREE: Given a string, return a string where for every character in the original there are three characters\n",
    "#times_three('Hello') --> 'HHHeeellllllooo'\n",
    "#times_three('Sup') --> 'SSSuuuppp'\n",
    "\n",
    "def times_three(string):\n",
    "    pass"
   ]
  },
  {
   "cell_type": "code",
   "execution_count": 2,
   "metadata": {},
   "outputs": [],
   "source": [
    "#Given a sentence, reverse it\n",
    "#reverse(\"Here we go\") -> \"go we Here\"\n",
    "#reverse(\"I like to eat\") -> \"eat to like I\"\n",
    "\n",
    "def reverse(string):\n",
    "    pass"
   ]
  },
  {
   "cell_type": "code",
   "execution_count": 3,
   "metadata": {},
   "outputs": [],
   "source": [
    "#Given an integer, return TRUE if the integer is within 10 of either 50 OR 100\n",
    "#within_ten(45) -> True\n",
    "#within_ten(65) -> False\n",
    "#within_ten(104) -> True\n",
    "\n",
    "def within_ten(num):\n",
    "    pass"
   ]
  },
  {
   "cell_type": "code",
   "execution_count": 8,
   "metadata": {},
   "outputs": [],
   "source": [
    "#Given a list of integers, return True if the list contains a 7 next to a 7\n",
    "#find_seven([1,3,7,6,7]) -> False\n",
    "#find_seven([4,7,7,9]) - > True\n",
    "\n",
    "def find_seven(nums):\n",
    "    pass"
   ]
  },
  {
   "cell_type": "code",
   "execution_count": 9,
   "metadata": {},
   "outputs": [],
   "source": [
    "#MAKE_FIFTY: Given three numbers, return 'OVER' if the sum is greater than 50, 'UNDER' if the sum is less than 50, and \"WOO!\"\n",
    "#if the sum is equal to 50\n",
    "#make_fifty(15,25,10) <- 'WOO!'\n",
    "#make_fifty(1,5,10) <- 'UNDER'\n",
    "#make_fifty(25,25,30) <- 'OVER'\n",
    "\n",
    "def make_fifty(x,y,z):\n",
    "    pass"
   ]
  },
  {
   "cell_type": "code",
   "execution_count": 10,
   "metadata": {},
   "outputs": [],
   "source": [
    "#MULTIPLY_ME: Write a function that returns the product of all valus inside the list\n",
    "#multiply_me([1,4,5,6]) <- 120\n",
    "#multiply_me([2,2,6,3]) <-72\n",
    "\n",
    "def multiply_me(nums):\n",
    "    pass"
   ]
  }
 ],
 "metadata": {
  "kernelspec": {
   "display_name": "Python 3",
   "language": "python",
   "name": "python3"
  },
  "language_info": {
   "codemirror_mode": {
    "name": "ipython",
    "version": 3
   },
   "file_extension": ".py",
   "mimetype": "text/x-python",
   "name": "python",
   "nbconvert_exporter": "python",
   "pygments_lexer": "ipython3",
   "version": "3.7.1"
  }
 },
 "nbformat": 4,
 "nbformat_minor": 2
}
