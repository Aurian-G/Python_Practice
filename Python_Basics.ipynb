{
 "cells": [
  {
   "cell_type": "code",
   "execution_count": null,
   "metadata": {},
   "outputs": [],
   "source": [
    "#Print out the letter s using indexing using TWO methods\n",
    "my_str = \"I like eggs\""
   ]
  },
  {
   "cell_type": "code",
   "execution_count": null,
   "metadata": {},
   "outputs": [],
   "source": [
    "#Reverse the string\n",
    "my_str = \"Reverse\""
   ]
  },
  {
   "cell_type": "code",
   "execution_count": null,
   "metadata": {},
   "outputs": [],
   "source": [
    "#Split this string into a list containing each of the words\n",
    "#Example my_string = \"Hello there man\"\n",
    "#Output [\"Hello\",\"there\",\"man\"]\n",
    "\n",
    "my_string = \"This is my string\""
   ]
  },
  {
   "cell_type": "code",
   "execution_count": null,
   "metadata": {},
   "outputs": [],
   "source": [
    "#Reassign \"apple\" so it says \"orange\" instead\n",
    "my_list = [\"sup\",(3,4),[\"hello\",\"apple\"]]"
   ]
  },
  {
   "cell_type": "code",
   "execution_count": null,
   "metadata": {},
   "outputs": [],
   "source": [
    "#Grab \"Lilly\" in this dictionary\n",
    "my_dict = {\"Hey\":\"Lilly\"}"
   ]
  },
  {
   "cell_type": "code",
   "execution_count": null,
   "metadata": {},
   "outputs": [],
   "source": [
    "#Grab \"Lilly\" in this dictionary\n",
    "my_dict = {\"Che\":\"Khabar\",\"yo\":{\"sup\":\"Lilly\"}}"
   ]
  },
  {
   "cell_type": "code",
   "execution_count": null,
   "metadata": {},
   "outputs": [],
   "source": [
    "####Example of for loop that prints out numbers 0 through 10 inclusive\n",
    "for i in range(0,11):\n",
    "    print(i)"
   ]
  },
  {
   "cell_type": "code",
   "execution_count": null,
   "metadata": {},
   "outputs": [],
   "source": [
    "#Create a list of numbers 0 through 10 inclusive with for loop and .append() method\n",
    "\n",
    "my_list = []\n",
    "for i in range(0,11):\n",
    "    #Enter code here"
   ]
  },
  {
   "cell_type": "code",
   "execution_count": null,
   "metadata": {},
   "outputs": [],
   "source": [
    "#Create a function that returns the sum of two number in a list\n",
    "#Example: my_list = [3,4]\n",
    "#output: 7\n",
    "my_nums = [10,8]\n",
    "my_nums2 = [3,11]\n",
    "\n",
    "def sum_of_two(nums):\n",
    "    #enter code here"
   ]
  },
  {
   "cell_type": "code",
   "execution_count": null,
   "metadata": {},
   "outputs": [],
   "source": [
    "#Create a function that takes the power of that number\n",
    "#Example: my_num = 7\n",
    "#output: 49\n",
    "\n",
    "x1 = 10\n",
    "x2 = 5\n",
    "x3 = -4\n",
    "\n",
    "def my_square(num):\n",
    "    #enter code here"
   ]
  },
  {
   "cell_type": "code",
   "execution_count": null,
   "metadata": {},
   "outputs": [],
   "source": [
    "#True or False?\n",
    "\n",
    "x1 = 34\n",
    "x2 = 43\n",
    "x3 = 80\n",
    "\n",
    "x1+x2 > x3"
   ]
  },
  {
   "cell_type": "code",
   "execution_count": null,
   "metadata": {},
   "outputs": [],
   "source": [
    "#True or False?\n",
    "\n",
    "my_str1 = \"cats\"\n",
    "my_str2 = \"sheep\"\n",
    "\n",
    "len(my_str2) < len(my_str1)"
   ]
  },
  {
   "cell_type": "code",
   "execution_count": null,
   "metadata": {},
   "outputs": [],
   "source": []
  },
  {
   "cell_type": "code",
   "execution_count": null,
   "metadata": {},
   "outputs": [],
   "source": []
  }
 ],
 "metadata": {
  "kernelspec": {
   "display_name": "Python 3",
   "language": "python",
   "name": "python3"
  },
  "language_info": {
   "codemirror_mode": {
    "name": "ipython",
    "version": 3
   },
   "file_extension": ".py",
   "mimetype": "text/x-python",
   "name": "python",
   "nbconvert_exporter": "python",
   "pygments_lexer": "ipython3",
   "version": "3.7.1"
  }
 },
 "nbformat": 4,
 "nbformat_minor": 2
}
